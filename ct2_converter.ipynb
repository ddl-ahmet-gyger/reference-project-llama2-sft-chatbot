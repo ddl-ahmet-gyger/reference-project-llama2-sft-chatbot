{
 "cells": [
  {
   "cell_type": "code",
   "execution_count": null,
   "id": "dc30a111",
   "metadata": {},
   "outputs": [
    {
     "name": "stderr",
     "output_type": "stream",
     "text": [
      "/usr/local/lib/python3.8/dist-packages/tqdm/auto.py:22: TqdmWarning: IProgress not found. Please update jupyter and ipywidgets. See https://ipywidgets.readthedocs.io/en/stable/user_install.html\n",
      "  from .autonotebook import tqdm as notebook_tqdm\n",
      "The argument `trust_remote_code` is to be used with Auto classes. It has no effect here and is ignored.\n"
     ]
    }
   ],
   "source": [
    "import os \n",
    "import ctranslate2\n",
    "\n",
    "\n",
    "# full_model_path = 'subirmansukhani/llama-2-7b-miniguanaco'\n",
    "full_model_path = '/mnt/artifacts/llama2/final_merged_checkpoint/'\n",
    "ct2_path ='/mnt/data/llama2-ct'\n",
    "quantization ='int8'\n",
    "\n",
    "os.system(f\"sudo ct2-transformers-converter --model {full_model_path} --output_dir {ct2_path} --quantization {quantization}  --force\")\n",
    "\n",
    "print(\" Model Converted successfully\")"
   ]
  },
  {
   "cell_type": "code",
   "execution_count": null,
   "id": "e274e955",
   "metadata": {},
   "outputs": [],
   "source": [
    "import torch \n",
    "import transformers\n",
    "\n",
    "model_path = '/mnt/data/llama2-ct'\n",
    "model_device = 'cuda' if torch.cuda.is_available() else 'cpu'\n",
    "\n",
    "# load the ctranslate model\n",
    "generator = ctranslate2.Generator(model_path, device=model_device)\n",
    "tokenizer = transformers.AutoTokenizer.from_pretrained('subirmansukhani/llama-2-7b-miniguanaco')\n",
    "\n"
   ]
  },
  {
   "cell_type": "code",
   "execution_count": 3,
   "id": "a45ed6b7",
   "metadata": {},
   "outputs": [
    {
     "data": {
      "text/plain": [
       "50.928"
      ]
     },
     "execution_count": 3,
     "metadata": {},
     "output_type": "execute_result"
    }
   ],
   "source": [
    "import time\n",
    "\n",
    "prompt = \"Complete the following Python function that computes the factorial of a number: \\ndef factorial(n):\"\n",
    "text = f\"<s>[INST] {prompt} [/INST]\"\n",
    "pct_new_tokens = 1.2\n",
    "\n",
    "tokens = tokenizer.convert_ids_to_tokens(tokenizer.encode(text))\n",
    "input_length = len(tokens)\n",
    "new_tokens = round(pct_new_tokens*input_length)\n",
    "tokens_per_sec = 0\n",
    "start_time = time.time()\n",
    "results = generator.generate_batch([tokens], sampling_topk=10, max_length=new_tokens, include_prompt_in_result=False)\n",
    "end_time = time.time()\n",
    "output_text = tokenizer.decode(results[0].sequences_ids[0])\n",
    "tokens_per_sec = round(new_tokens / (end_time - start_time),3)\n",
    "tokens_per_sec"
   ]
  },
  {
   "cell_type": "code",
   "execution_count": 4,
   "id": "aa1b55d3",
   "metadata": {},
   "outputs": [
    {
     "data": {
      "text/plain": [
       "'Sure! Here is a possible implementation of the `factorial` function in Python:\\n```\\ndef factorial(n):\\n    if n == 0:\\n        return '"
      ]
     },
     "execution_count": 4,
     "metadata": {},
     "output_type": "execute_result"
    }
   ],
   "source": [
    "output_text"
   ]
  },
  {
   "cell_type": "code",
   "execution_count": null,
   "id": "1b5fec98",
   "metadata": {},
   "outputs": [],
   "source": []
  }
 ],
 "metadata": {
  "kernelspec": {
   "display_name": "Python 3 (ipykernel)",
   "language": "python",
   "name": "python3"
  },
  "language_info": {
   "codemirror_mode": {
    "name": "ipython",
    "version": 3
   },
   "file_extension": ".py",
   "mimetype": "text/x-python",
   "name": "python",
   "nbconvert_exporter": "python",
   "pygments_lexer": "ipython3",
   "version": "3.8.10"
  }
 },
 "nbformat": 4,
 "nbformat_minor": 5
}
