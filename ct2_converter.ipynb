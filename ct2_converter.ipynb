{
 "cells": [
  {
   "cell_type": "code",
   "execution_count": 1,
   "id": "dd9b22ec",
   "metadata": {},
   "outputs": [
    {
     "name": "stderr",
     "output_type": "stream",
     "text": [
      "\n",
      "Downloading (…)l-00002-of-00002.bin:  96%|█████████▌| 3.36G/3.50G [00:08<00:00, 401MB/s]\u001b[A\n",
      "Downloading (…)l-00002-of-00002.bin:  97%|█████████▋| 3.40G/3.50G [00:08<00:00, 396MB/s]\u001b[A\n",
      "Downloading (…)l-00002-of-00002.bin:  98%|█████████▊| 3.44G/3.50G [00:09<00:00, 398MB/s]\u001b[A\n",
      "Downloading (…)l-00002-of-00002.bin: 100%|██████████| 3.50G/3.50G [00:09<00:00, 381MB/s]\u001b[A\n",
      "Downloading shards: 100%|██████████| 2/2 [00:35<00:00, 17.86s/it]\n",
      "Loading checkpoint shards: 100%|██████████| 2/2 [00:05<00:00,  2.73s/it]\n",
      "Downloading (…)okenizer_config.json: 100%|██████████| 732/732 [00:00<00:00, 297kB/s]\n",
      "Downloading tokenizer.model: 100%|██████████| 500k/500k [00:00<00:00, 309MB/s]\n",
      "Downloading (…)/main/tokenizer.json: 100%|██████████| 1.84M/1.84M [00:00<00:00, 6.26MB/s]\n",
      "Downloading (…)in/added_tokens.json: 100%|██████████| 39.0/39.0 [00:00<00:00, 53.6kB/s]\n",
      "Downloading (…)cial_tokens_map.json: 100%|██████████| 434/434 [00:00<00:00, 532kB/s]\n"
     ]
    },
    {
     "name": "stdout",
     "output_type": "stream",
     "text": [
      " Model Converted successfully\n"
     ]
    }
   ],
   "source": [
    "import os \n",
    "import ctranslate2\n",
    "\n",
    "\n",
    "full_model_path = 'subirmansukhani/llama-2-7b-miniguanaco'\n",
    "ct2_path ='/mnt/data/llama2-ct'\n",
    "quantization ='int8'\n",
    "\n",
    "os.system(f\"sudo ct2-transformers-converter --model {full_model_path} --output_dir {ct2_path} --quantization {quantization} --trust_remote_code --force\")\n",
    "\n",
    "print(\" Model Converted successfully\")"
   ]
  },
  {
   "cell_type": "code",
   "execution_count": 8,
   "id": "8a2c480f",
   "metadata": {},
   "outputs": [],
   "source": [
    "import torch \n",
    "import transformers\n",
    "\n",
    "model_path = '/mnt/data/llama2-ct'\n",
    "model_device = 'cuda' if torch.cuda.is_available() else 'cpu'\n",
    "\n",
    "# load the ctranslate model\n",
    "generator = ctranslate2.Generator(model_path, device=model_device)\n",
    "tokenizer = transformers.AutoTokenizer.from_pretrained('subirmansukhani/llama-2-7b-miniguanaco')\n",
    "\n"
   ]
  },
  {
   "cell_type": "code",
   "execution_count": 14,
   "id": "1e80b39f",
   "metadata": {},
   "outputs": [
    {
     "data": {
      "text/plain": [
       "47.927"
      ]
     },
     "execution_count": 14,
     "metadata": {},
     "output_type": "execute_result"
    }
   ],
   "source": [
    "import time\n",
    "\n",
    "prompt = \"Complete the following Python function that computes the factorial of a number: \\ndef factorial(n):\"\n",
    "text = f\"<s>[INST] {prompt} [/INST]\"\n",
    "pct_new_tokens = 1.2\n",
    "\n",
    "tokens = tokenizer.convert_ids_to_tokens(tokenizer.encode(text))\n",
    "input_length = len(tokens)\n",
    "new_tokens = round(pct_new_tokens*input_length)\n",
    "tokens_per_sec = 0\n",
    "start_time = time.time()\n",
    "results = generator.generate_batch([tokens], sampling_topk=10, max_length=new_tokens, include_prompt_in_result=False)\n",
    "end_time = time.time()\n",
    "output_text = tokenizer.decode(results[0].sequences_ids[0])\n",
    "tokens_per_sec = round(new_tokens / (end_time - start_time),3)\n",
    "tokens_per_sec"
   ]
  },
  {
   "cell_type": "code",
   "execution_count": 15,
   "id": "574f1763",
   "metadata": {},
   "outputs": [
    {
     "data": {
      "text/plain": [
       "'Here is the Python function that computes the factorial of a number using recursion:\\ndef factorial(n):\\n    if n == 0: \\n        return 1'"
      ]
     },
     "execution_count": 15,
     "metadata": {},
     "output_type": "execute_result"
    }
   ],
   "source": [
    "output_text"
   ]
  }
 ],
 "metadata": {
  "kernelspec": {
   "display_name": "Python 3 (ipykernel)",
   "language": "python",
   "name": "python3"
  },
  "language_info": {
   "codemirror_mode": {
    "name": "ipython",
    "version": 3
   },
   "file_extension": ".py",
   "mimetype": "text/x-python",
   "name": "python",
   "nbconvert_exporter": "python",
   "pygments_lexer": "ipython3",
   "version": "3.8.10"
  }
 },
 "nbformat": 4,
 "nbformat_minor": 5
}
